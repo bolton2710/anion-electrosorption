{
 "cells": [
  {
   "cell_type": "code",
   "execution_count": null,
   "id": "048b1841",
   "metadata": {},
   "outputs": [],
   "source": [
    "import numpy as np\n",
    "import pandas as pd\n",
    "import matplotlib.pyplot as plt\n",
    "from scipy import stats\n",
    "from scipy.optimize import fsolve\n",
    "from sklearn import linear_model\n",
    "from sklearn.metrics import root_mean_squared_error, mean_absolute_error, r2_score"
   ]
  },
  {
   "cell_type": "code",
   "execution_count": null,
   "id": "32d66218-cdf0-4e99-9151-108eed01082b",
   "metadata": {},
   "outputs": [],
   "source": [
    "#Constant\n",
    "RT=8.314*298/1000/96.49 #eV"
   ]
  },
  {
   "cell_type": "markdown",
   "id": "d14844e8",
   "metadata": {},
   "source": [
    "### A. Read and extract from Excel file"
   ]
  },
  {
   "cell_type": "code",
   "execution_count": null,
   "id": "48129c3f",
   "metadata": {},
   "outputs": [],
   "source": [
    "#read excel table\n",
    "excel=pd.read_excel('GCDFT_compile.xlsx', sheet_name='all_pbed3')\n",
    "excel.head(7)"
   ]
  },
  {
   "cell_type": "code",
   "execution_count": null,
   "id": "92f18fea",
   "metadata": {},
   "outputs": [],
   "source": [
    "#Extract\n",
    "valences=excel.to_numpy()[0,1:].astype('float')\n",
    "pKas=excel.to_numpy()[1,1:].astype('float') #transposed and converted to floats\n",
    "GpKas=pKas*2.303*8.314*298/1000/96.49 #eV\n",
    "names=np.array(excel.columns[1:]).astype('str')\n",
    "#In order of d filling and 3, 4, 5d\n",
    "metals=['Co','Ni','Cu','Rh','Pd','Ag','Ir','Pt','Au']\n",
    "ads=[]\n",
    "efs=[]\n",
    "for i in range(len(metals)):\n",
    "    nstart=4+5*i\n",
    "    nend=7+5*i\n",
    "    ads.append(excel.to_numpy()[nstart:nend,1:].T.astype('float') )\n",
    "    efs.append(excel.to_numpy()[nstart-1,:])\n",
    "ads=np.array(ads)\n",
    "#Extract Ef\n",
    "efs=np.array(efs).astype('float')\n",
    "metalefs=efs[:,0]*27.2114"
   ]
  },
  {
   "cell_type": "code",
   "execution_count": null,
   "id": "464e9665",
   "metadata": {},
   "outputs": [],
   "source": [
    "#Fit adsorption vs. potential\n",
    "pots=np.array([0.8,0.4,0.0]) #SHE\n",
    "fits=[[stats.linregress(pots,i) for i in m] for m in ads]\n",
    "#Get slope and intercept\n",
    "gam=np.array([[i.slope for i in m] for m in fits])\n",
    "Uo=np.array([[-i.intercept/i.slope for i in m] for m in fits])"
   ]
  },
  {
   "cell_type": "markdown",
   "id": "3262ef06-5e68-431d-9b36-98688b5c7018",
   "metadata": {},
   "source": [
    "### B. Langmuir isotherms setup"
   ]
  },
  {
   "cell_type": "markdown",
   "id": "8c1650b0-3d5f-4d5e-a4d7-e65a0056e947",
   "metadata": {},
   "source": [
    "Input includes:\n",
    "1. anionChoice: List of anions (excluding any acid-base conjugates).\n",
    "2. anionc: List of anion concentration.\n",
    "3. Bulk pH.\n",
    "4. metalChoice: Metal identity OR metalFeatures: customized feature values for metals (n=6).\n",
    "5. nsite: List of number of site each anion occupy (based on 111 surface).\n",
    "\n",
    "Algorithm includes:\n",
    "1. See if the chosen anions have acid-base conjugates, then compute the conjugates' concentrations based on pH.\n",
    "2. Compute the $\\gamma$ and $U^o$ for all chosen anions and their conjugates.\n",
    "3. Set up Langmuir ODE and solve."
   ]
  },
  {
   "cell_type": "markdown",
   "id": "06cedbab-d872-4724-887f-39841bc8c032",
   "metadata": {},
   "source": [
    "Acid-base equilibrium\\\n",
    "Assume $A \\xleftrightarrow{\\text{pKa1}} B \\xleftrightarrow{\\text{pKa2}} C \\xleftrightarrow{\\text{pKa3}} ... $ (acid left to base right).\n",
    "\n",
    "\\begin{align}\n",
    "\\frac{[B]}{[A]} &= 10^{\\text{pH}-\\text{pKa1}} = Q_1 \\\\\n",
    "\\frac{[C]}{[B]} &= 10^{\\text{pH}-\\text{pKa2}} = Q_2 \\\\\n",
    "[A] + [B] + [C] &= C_0 \n",
    "\\end{align}\n",
    "Then rearrange this into a system of linear equations:\n",
    "\\begin{align}\n",
    "-Q_1[A] + [B] &= 0 \\\\\n",
    "-Q_2[B] + [C] &= 0 \\\\\n",
    "[A] + [B] + [C] &= C_0 \n",
    "\\end{align}\n",
    "In matrix form of $ax=b$:\n",
    "\\begin{align}\n",
    "a&=\n",
    "\\begin{bmatrix} \n",
    "-Q_1 & 1 & 0 \\\\\n",
    "0 & -Q_2 & 1 \\\\\n",
    "1 & 1 & 1\n",
    "\\end{bmatrix}\\\\\n",
    "b&=\n",
    "\\begin{bmatrix} \n",
    "0 \\\\\n",
    "0 \\\\\n",
    "C_0\n",
    "\\end{bmatrix} \n",
    "\\hspace{9mm}\n",
    "x=\n",
    "\\begin{bmatrix} \n",
    "[A] \\\\\n",
    "[B] \\\\\n",
    "[C]\n",
    "\\end{bmatrix}\n",
    "\\end{align}"
   ]
  },
  {
   "cell_type": "markdown",
   "id": "14efa471-648c-4937-aaec-72ae23a6925c",
   "metadata": {},
   "source": [
    "#### 0. Input"
   ]
  },
  {
   "cell_type": "code",
   "execution_count": null,
   "id": "77dcd254-6cda-4447-9cfe-48e9013f0843",
   "metadata": {},
   "outputs": [],
   "source": [
    "print(names)\n",
    "print(metals)"
   ]
  },
  {
   "cell_type": "code",
   "execution_count": null,
   "id": "e29d6c33-188a-4ff8-aa7b-b5a1aa148071",
   "metadata": {},
   "outputs": [],
   "source": [
    "anionChoice=['HCO3-','NO3-']\n",
    "initConc=[0.001, 1]\n",
    "anionSite=[2, 2]\n",
    "pH=1\n",
    "metalChoice='Cu'"
   ]
  },
  {
   "cell_type": "markdown",
   "id": "f931e21b-c02b-4f0e-89d2-2850580fd545",
   "metadata": {},
   "source": [
    "#### 1. Identify conjugates and solve for concentrations"
   ]
  },
  {
   "cell_type": "code",
   "execution_count": null,
   "id": "509ebfe7-707f-44e3-bab6-d3adea3d796b",
   "metadata": {},
   "outputs": [],
   "source": [
    "#Create conjugates library\n",
    "conjugates=[['HSO4-', 'SO4--'],\n",
    "            ['HSO3-', 'SO3--'],\n",
    "            ['HCO3-', 'CO3--'],\n",
    "            ['COOHCOO-', 'COOCOO--'],\n",
    "            ['H2PO4-', 'HPO4--', 'PO4---']]\n",
    "pKa_lookup=dict(zip(names, pKas)) #lookup table"
   ]
  },
  {
   "cell_type": "code",
   "execution_count": null,
   "id": "c726839a-4951-4543-b72b-c3bf7efe9bea",
   "metadata": {},
   "outputs": [],
   "source": [
    "#General acid-base equation solver\n",
    "def solveAcidBase(pKas, pH, initc):\n",
    "    #Set up system of Henderson-Hasselbalch linear equations\n",
    "    Qs=[10**(pH - pKa) for pKa in pKas[:-1]] #exclude the last entry \n",
    "    #Setup ax=b\n",
    "    a=np.zeros((len(pKas), len(pKas))) #initialize matrix\n",
    "    for i in range(len(pKas)-1):\n",
    "        a[i,i]=-Qs[i] #diagonal elements are K values\n",
    "        a[i,i+1]=1 #on the right is 1\n",
    "    a[-1:, :]=1 #last row for intital concentration\n",
    "    b=np.zeros(len(pKas))\n",
    "    b[-1]=initc\n",
    "    #Solve\n",
    "    concs=np.linalg.solve(a,b)\n",
    "    return concs"
   ]
  },
  {
   "cell_type": "code",
   "execution_count": null,
   "id": "d8ee5ef0-e4e8-46fc-af10-f2c26c4541d2",
   "metadata": {},
   "outputs": [],
   "source": [
    "#Iterate through anionChoice and find conjugates, then solve for concentration in one go\n",
    "anionConj=[]\n",
    "concConj=[]\n",
    "siteConj=[]\n",
    "flagNO3NO2=False\n",
    "for a in range(len(anionChoice)):\n",
    "    anion=anionChoice[a]\n",
    "    #First determine whether this anion also has other anionic conjugates (i.e., not the neutral acid)\n",
    "    flagConj=False\n",
    "    for group in conjugates: \n",
    "        for i, entry in enumerate(group):\n",
    "            if anion==entry: #if found in conjugate library\n",
    "                flagConj=True\n",
    "                iSpecies=['acid'] + group #species to solve for including the neutral acid, arranged from acid to base\n",
    "                pKaSpecies=[pKa_lookup.get(i,'') for i in iSpecies] #lookup pKa\n",
    "                pKaSpecies=pKaSpecies[1:]+pKaSpecies[:1] #Rearrange to match species and pKa\n",
    "                #Call solver\n",
    "                conc=solveAcidBase(pKaSpecies, pH, initConc[a])\n",
    "                #Save info\n",
    "                anionConj+=iSpecies[1:] #get the anions, not neutral acid\n",
    "                concConj+=conc[1:].tolist()\n",
    "                siteConj+=[anionSite[a]]*len(group)\n",
    "    if not flagConj: #If has no conjugate anion at all\n",
    "        iSpecies=['acid'] + [anion] #species to solve for including the neutral acid, arranged from acid to base        \n",
    "        pKaSpecies=[pKa_lookup.get(i,'') for i in iSpecies] #lookup pKa\n",
    "        pKaSpecies=pKaSpecies[1:]+pKaSpecies[:1] #Rearrange to match species and pKa\n",
    "        #Call solver\n",
    "        conc=solveAcidBase(pKaSpecies, pH, initConc[a])\n",
    "        #Save info\n",
    "        anionConj+=iSpecies[1:] #get the anions, not neutral acid\n",
    "        concConj+=conc[1:].tolist()\n",
    "        siteConj+=[anionSite[a]]"
   ]
  },
  {
   "cell_type": "code",
   "execution_count": null,
   "id": "6419d13e-1a76-4b4e-a6d3-5b7a238d69a5",
   "metadata": {},
   "outputs": [],
   "source": [
    "#Concat in H and OH\n",
    "ionList=['H+', 'OH-'] + anionConj\n",
    "concList=[10**(-pH), 10**(-14+pH)] + concConj\n",
    "siteList=[1, 1] + siteConj\n",
    "print(ionList)\n",
    "print(concList)\n",
    "print(siteList)"
   ]
  },
  {
   "cell_type": "markdown",
   "id": "809c1875-ff3d-47e1-a9ea-6b3714d92844",
   "metadata": {},
   "source": [
    "#### 2. Compute $\\gamma$ and $U^o$ based on anion list"
   ]
  },
  {
   "cell_type": "code",
   "execution_count": null,
   "id": "524908e9-8359-4a6e-8362-177142d25846",
   "metadata": {},
   "outputs": [],
   "source": [
    "#2. Function to output all needed gams and Uos\n",
    "def GCout(metalChoice, ionList):\n",
    "    metalInd=metals.index(metalChoice)\n",
    "    ionInd=[names.tolist().index(i) for i in ionList]\n",
    "    gams=[gam[metalInd, i] for i in ionInd]\n",
    "    Uos=[Uo[metalInd, i] for i in ionInd]\n",
    "    out=list(zip(gams,Uos))\n",
    "    return np.array(out)"
   ]
  },
  {
   "cell_type": "code",
   "execution_count": null,
   "id": "89aad606-110a-4312-9ec5-fd5e4b192699",
   "metadata": {},
   "outputs": [],
   "source": [
    "gamUoList=GCout(metalChoice, ionList)\n",
    "print(gamUoList)"
   ]
  },
  {
   "cell_type": "markdown",
   "id": "560c0720-f6aa-4322-95e3-b1f01ca35d6b",
   "metadata": {},
   "source": [
    "#### 3. Set up and solve Langmuir ODE"
   ]
  },
  {
   "cell_type": "code",
   "execution_count": null,
   "id": "0f7a4e0a-886e-446f-8f15-0d89f86f1f77",
   "metadata": {},
   "outputs": [],
   "source": [
    "#Adsorption grand free energy\n",
    "def omegaAd(gam, Uo, U):\n",
    "    return gam*(U - Uo)"
   ]
  },
  {
   "cell_type": "code",
   "execution_count": null,
   "id": "95223618-c00a-4b9d-9655-75a83f12c5d6",
   "metadata": {},
   "outputs": [],
   "source": [
    "def Langmuir(theta, U):\n",
    "    #adsorption equi constant of all ions\n",
    "    Kad=[np.exp(-omegaAd(*a, U)/RT) for a in gamUoList]\n",
    "    #Setup Langmuir equations\n",
    "    eqns=[]\n",
    "    for i in range(len(ionList)):\n",
    "        eqns.append(theta[i+1] - Kad[i]*concList[i]*theta[0]**siteList[i]) #adsorption equilibrium\n",
    "    eqns.append(np.sum(theta)-1) #site balance\n",
    "    return eqns"
   ]
  },
  {
   "cell_type": "code",
   "execution_count": null,
   "id": "644f93ae-a525-46a6-a5af-8b1495996b5c",
   "metadata": {},
   "outputs": [],
   "source": [
    "#Test solve at some U\n",
    "U=0.845 #V SHE\n",
    "fsolve(Langmuir, x0=[0.1]*(1+len(ionList)), args=(U)) #choose U"
   ]
  },
  {
   "cell_type": "markdown",
   "id": "b70adbb7-0306-4755-8cf3-eb1de73d7bee",
   "metadata": {},
   "source": [
    "### D. Static plot"
   ]
  },
  {
   "cell_type": "code",
   "execution_count": null,
   "id": "afbc165c-ee19-4e21-909d-916633e3b369",
   "metadata": {},
   "outputs": [],
   "source": [
    "#Define U range\n",
    "Umin=-1.1\n",
    "Umax=2.1\n",
    "USHE=np.arange(Umin,Umax+0.01,0.01) #USHE\n",
    "#Solve Langmuir at each U\n",
    "theta=[]\n",
    "for u in USHE:\n",
    "    #Solve Langmuir equations\n",
    "    theta.append(fsolve(Langmuir, x0=[0.1]*(1+len(ionList)), args=(u)))\n",
    "theta=np.array(theta).T"
   ]
  },
  {
   "cell_type": "code",
   "execution_count": null,
   "id": "f905a1f4-f1d2-4ae7-b818-aa855c174d40",
   "metadata": {},
   "outputs": [],
   "source": [
    "#Configure colors\n",
    "colors=[[232, 174, 74] , [237, 152, 5], #HCO3, CO3\n",
    "        [25, 180, 43] , [25, 180, 121], [25, 180, 121]] #NO3 & NO2\n",
    "colors+=[[150-n*10, 180,25] for n in range(10)] #10 carboxylates\n",
    "colors+=[[180, 25, 170-n*20] for n in range(3)] #3 halides\n",
    "colors+=[[176, 77, 48], [180, 60, 25], #HSO3, SO3\n",
    "         [179, 59, 55], [180, 30, 25],  #HSO4, SO4\n",
    "         [145, 140, 60], [186, 176, 39], [235, 219, 5], #H2PO4, HPO4, PO4\n",
    "         [14, 178, 207], [27, 194, 12], [14, 178, 207]]\n",
    "colors=np.array(colors)/255\n",
    "colors_lookup=dict(zip(names, colors))\n",
    "colorList=[colors_lookup.get(i) for i in ionList]"
   ]
  },
  {
   "cell_type": "code",
   "execution_count": null,
   "id": "2c48173f-1153-4872-8ecd-9fb3af8601df",
   "metadata": {},
   "outputs": [],
   "source": [
    "#plot\n",
    "fig=plt.figure(figsize=(5,2.5),dpi=300)\n",
    "bottom=np.zeros(len(theta[0]))\n",
    "for i in range(1,len(theta)):\n",
    "    plt.fill_between(USHE,theta[i]+bottom,ec='k',zorder=-i, label=ionList[i-1], fc=colorList[i-1])\n",
    "    bottom +=theta[i]\n",
    "plt.ylim(0,1)\n",
    "\n",
    "#plt.legend(bbox_to_anchor=(1.05, 1.05), loc='upper left',fontsize=16)\n",
    "#plt.xlim(-0.1-0.059*pH, 1.1-0.059*pH) #SHIFT TO RHE\n",
    "plt.xlim(-0.3, 1)\n",
    "plt.xticks([-0.2, 0.3, 0.8])\n",
    "plt.tick_params(axis='both',labelsize=25)\n",
    "#plt.tick_params(axis='x',labelbottom=False)\n",
    "#plt.tick_params(axis='y',labelleft=False)\n",
    "plt.xlabel('Potential (V SHE)',fontsize=22)\n",
    "plt.ylabel(r'Coverage',fontsize=22)\n",
    "plt.show()"
   ]
  }
 ],
 "metadata": {
  "kernelspec": {
   "display_name": "Python 3 (ipykernel)",
   "language": "python",
   "name": "python3"
  },
  "language_info": {
   "codemirror_mode": {
    "name": "ipython",
    "version": 3
   },
   "file_extension": ".py",
   "mimetype": "text/x-python",
   "name": "python",
   "nbconvert_exporter": "python",
   "pygments_lexer": "ipython3",
   "version": "3.12.3"
  },
  "widgets": {
   "application/vnd.jupyter.widget-state+json": {
    "state": {},
    "version_major": 2,
    "version_minor": 0
   }
  }
 },
 "nbformat": 4,
 "nbformat_minor": 5
}
