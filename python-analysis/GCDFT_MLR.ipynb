{
 "cells": [
  {
   "cell_type": "code",
   "execution_count": null,
   "id": "b7e1dc48",
   "metadata": {},
   "outputs": [],
   "source": [
    "import numpy as np\n",
    "import pandas as pd\n",
    "import matplotlib.pyplot as plt\n",
    "from scipy import stats\n",
    "from sklearn import linear_model\n",
    "from sklearn.metrics import root_mean_squared_error, mean_absolute_error, r2_score\n",
    "from sklearn.model_selection import KFold, train_test_split\n",
    "from sklearn.feature_selection import SequentialFeatureSelector\n",
    "import pandas as pd\n",
    "from collections import Counter\n",
    "import seaborn as sns\n",
    "from sklearn.preprocessing import StandardScaler"
   ]
  },
  {
   "cell_type": "markdown",
   "id": "919eb10f",
   "metadata": {},
   "source": [
    "### Read and extract from Excel file"
   ]
  },
  {
   "cell_type": "code",
   "execution_count": null,
   "id": "ddf30612",
   "metadata": {},
   "outputs": [],
   "source": [
    "#read excel table\n",
    "excel=pd.read_excel('GCDFT_compile.xlsx', sheet_name='all_pbed3')\n",
    "excel.head(5)"
   ]
  },
  {
   "cell_type": "code",
   "execution_count": null,
   "id": "c55c7c18-fe5e-4520-aa03-e987a9719d40",
   "metadata": {},
   "outputs": [],
   "source": [
    "#Extract\n",
    "valences=excel.to_numpy()[0,1:].astype('float')\n",
    "pKas=excel.to_numpy()[1,1:].astype('float') #transposed and converted to floats\n",
    "GpKas=pKas*2.303*8.314*298/1000/96.49 #eV\n",
    "names=np.array(excel.columns[1:]).astype('str')\n",
    "#In order of d filling and 3, 4, 5d\n",
    "metals=['Co','Ni','Cu','Rh','Pd','Ag','Ir','Pt','Au']\n",
    "ads=[]\n",
    "efs=[]\n",
    "for i in range(len(metals)):\n",
    "    nstart=4+5*i\n",
    "    nend=7+5*i\n",
    "    ads.append(excel.to_numpy()[nstart:nend,1:].T.astype('float') )\n",
    "    efs.append(excel.to_numpy()[nstart-1,:])\n",
    "ads=np.array(ads)\n",
    "#Extract Ef\n",
    "efs=np.array(efs).astype('float')\n",
    "metalefs=efs[:,0]*27.2114\n",
    "pzcs=efs*-27.2114 - 4.66 #SHE\n",
    "adpzcs=pzcs[:,1:]\n",
    "metalpzcs=pzcs[:,0]"
   ]
  },
  {
   "cell_type": "code",
   "execution_count": null,
   "id": "1abc6beb",
   "metadata": {},
   "outputs": [],
   "source": [
    "#Fit adsorption vs. potential\n",
    "pots=np.array([0.8,0.4,0.0]) #SHE\n",
    "fits=[[stats.linregress(pots,i) for i in m] for m in ads]\n",
    "#Get slope and intercept\n",
    "gam=np.array([[i.slope for i in m] for m in fits])\n",
    "Uo=np.array([[-i.intercept/i.slope for i in m] for m in fits])"
   ]
  },
  {
   "cell_type": "code",
   "execution_count": null,
   "id": "493ff499-5aea-4c77-9f52-a9f967404f02",
   "metadata": {},
   "outputs": [],
   "source": [
    "#Get goodness of fit\n",
    "adsclean=ads[~np.isnan(ads).all(axis=2)]\n",
    "fitsclean=[stats.linregress(pots,i) for i in adsclean]\n",
    "#R2\n",
    "r2s=abs(np.array([i.rvalue for i in fitsclean]))\n",
    "print(np.mean(r2s), min(r2s), max(r2s), np.std(r2s))\n",
    "#Slope err\n",
    "gamerr=np.array([i.stderr for i in fitsclean])\n",
    "print(np.mean(gamerr), min(gamerr), max(gamerr),  np.std(gamerr))\n",
    "#intercept err\n",
    "yinterr=np.array([i.intercept_stderr for i in fitsclean])\n",
    "uoerr=np.sqrt(yinterr**2 + gamerr**2)\n",
    "print(np.mean(uoerr), min(uoerr), max(uoerr),  np.std(uoerr))"
   ]
  },
  {
   "cell_type": "markdown",
   "id": "49a88936",
   "metadata": {},
   "source": [
    "### WF or Fermi change"
   ]
  },
  {
   "cell_type": "code",
   "execution_count": null,
   "id": "5cd83e00",
   "metadata": {},
   "outputs": [],
   "source": [
    "#Change in fermi energy upon adsorption\n",
    "ef_diff=np.array([i-metalpzcs for i in adpzcs.T]).T\n",
    "#Find RMSE\n",
    "mask=np.isnan(np.hstack(ef_diff)).astype('bool')\n",
    "print('MAE:',mean_absolute_error(np.hstack(ef_diff)[~mask],np.hstack(gam-valences)[~mask]))\n",
    "print('RMSE:',root_mean_squared_error(np.hstack(ef_diff)[~mask],np.hstack(gam-valences)[~mask]))"
   ]
  },
  {
   "cell_type": "code",
   "execution_count": null,
   "id": "9aa8010c-a366-446b-858e-6e1d52c00861",
   "metadata": {},
   "outputs": [],
   "source": [
    "fig, axes=plt.subplots(1,2,figsize=(7,3),dpi=200)\n",
    "#plt.gca().set_aspect('equal')\n",
    "for m in range(9): #each metal\n",
    "    #Plot each valence with different shape\n",
    "    vcolor=['b','g','r']\n",
    "    vin=0\n",
    "    for v in [-1,-2,-3]:\n",
    "        mask=valences==v\n",
    "        axes[0].plot(ef_diff[m][mask],gam[m][mask],ls='',marker='o',mec='k',mfc=vcolor[vin],markersize=8,alpha=0.6)\n",
    "        axes[1].plot(ef_diff[m][mask],gam[m][mask]-valences[mask],ls='',marker='o',mec='k',mfc=vcolor[vin],markersize=8,alpha=0.6)\n",
    "        vin+=1\n",
    "\n",
    "#Format ax1\n",
    "[i.set_xlim(-1,2) for i in axes]\n",
    "axes[0].set_ylim(-2.8,0)\n",
    "axes[1].set_ylim(-1,2)\n",
    "axes[1].plot([-1,2], [-1,2],ls=':',c='k',lw=2)\n",
    "[i.tick_params(axis='both',labelsize=15) for i in axes]\n",
    "\n",
    "[i.set_xlabel(r'$\\Delta \\epsilon_F$ (eV)',fontsize=13) for i in axes]\n",
    "axes[0].set_ylabel(r'$\\gamma$ (e)',fontsize=13)\n",
    "axes[1].set_ylabel(r'$\\gamma - z$  (e)',fontsize=13,va='top')\n",
    "plt.subplots_adjust(wspace=0.4)\n",
    "plt.show()"
   ]
  },
  {
   "cell_type": "markdown",
   "id": "03509c3f",
   "metadata": {},
   "source": [
    "### Compile data frames"
   ]
  },
  {
   "cell_type": "code",
   "execution_count": null,
   "id": "8b0a8906",
   "metadata": {},
   "outputs": [],
   "source": [
    "#Metal properties\n",
    "#Vacuum WF/fermi\n",
    "wf=-np.array([0.071418084, 0.064151821, 0.055983892, 0.108732746, 0.08235435, 0.093749664,\n",
    "            0.140126819, 0.115625054, 0.049829702])\n",
    "%store -r dcens dwidths spcens spwidths spareas\n",
    "#d-band center from Norskov book Fig. 8.5\n",
    "m_ds=np.array([-1.17,-1.73,-2.11,-1.29,-1.83,-2.25,-2.67,-4.3,-3.56]) #eV\n",
    "Vad2=np.array([1.34,3.32,4.45,1.16,2.78,3.90,1,2.26,3.35])\n",
    "#Lattice constant from PBE-D3\n",
    "alat=np.array([3.49, 3.48, 3.57, 3.80, 3.90, 4.08, 3.84, 3.92, 4.10])\n",
    "#J. Chem. Theory Comput. 2024, 20, 7469−7478\n",
    "#rVDW=np.array([4.52,4.45,4.42,4.6,4.07,4.52,4.51,4.44,4.26])\n",
    "#pol=np.array([55,49,47,66,26,55,54,48,36])\n",
    "#CRC handbook 105th\n",
    "rVDW=np.array([2.00, 1.97, 1.96, 2.10, 2.10, 2.11, 2.13, 2.13, 2.14]) #Angstrom\n",
    "pol=np.array([8.55, 7.57, 6.03, 8.6, 3.874, 5.44, 7.6, 6.5, 4.13])**(1/3) #E-24 cm3\n",
    "EAm=np.array([0.662256, 1.15716, 1.235775, 1.14289, 0.56214, 1.304475, 1.564057, 2.1251, 2.30863]) #eV"
   ]
  },
  {
   "cell_type": "code",
   "execution_count": null,
   "id": "d61311af-f21a-46d6-8b5a-d52224f0351d",
   "metadata": {},
   "outputs": [],
   "source": [
    "#Acid properties from Excel file\n",
    "excel=pd.read_excel('GCDFT_compile.xlsx', sheet_name='acids')\n",
    "dipol=excel.to_numpy()[3][1:].astype('float')\n",
    "eHOMO=excel.to_numpy()[9][1:].astype('float')*27.2114\n",
    "eLUMO=excel.to_numpy()[10][1:].astype('float')*27.2114\n",
    "eHOMO1=excel.to_numpy()[11][1:].astype('float')*27.2114\n",
    "eHOMOz=excel.to_numpy()[12][1:].astype('float')*27.2114\n",
    "EA1=excel.to_numpy()[13][1:].astype('float')*27.2114\n",
    "EAz=excel.to_numpy()[14][1:].astype('float')*27.2114\n",
    "homolytic=excel.to_numpy()[16][1:].astype('float')*27.2114\n",
    "eHOMOH=excel.to_numpy()[17][1:].astype('float')*27.2114\n",
    "excel.head()\n",
    "print(len(dipol))"
   ]
  },
  {
   "cell_type": "code",
   "execution_count": null,
   "id": "f5b76092-101c-492a-9cb6-1a91fe47ae67",
   "metadata": {},
   "outputs": [],
   "source": [
    "#Create data frame\n",
    "df=pd.DataFrame(np.hstack(gam),columns=[r'$\\gamma$'])\n",
    "df.insert(0,[r'$U^o$'],np.hstack(Uo),True)\n",
    "df.insert(0,[r'$\\Delta\\epsilon_F$'],np.hstack(ef_diff),True)\n",
    "#Metal feature\n",
    "df.insert(0,[r'$\\varepsilon_{sp}$'],[i for i in spcens for j in range(28)],True)\n",
    "df.insert(0,[r'$W_{sp}$'],[i for i in spwidths for j in range(28)],True)\n",
    "df.insert(0,[r'$\\varepsilon_d$'],[i for i in dcens for j in range(28)],True)\n",
    "df.insert(0,[r'$W_d$'],[i for i in dwidths for j in range(28)],True)\n",
    "df.insert(0,[r'$\\varepsilon_F$'],[i for i in metalefs for j in range(28)],True)\n",
    "df.insert(0,[r'$\\varepsilon^{v}_F$'],[i for i in wf for j in range(28)],True)\n",
    "df.insert(0,[r'$a_{fcc}$'],[i for i in alat for j in range(28)],True)\n",
    "df.insert(0,[r'$V^2_{ad}$'],[i for i in Vad2 for j in range(28)],True)\n",
    "df.insert(0,[r'$E^m_{EA}$'],[i for i in EAm for j in range(28)],True)\n",
    "df.insert(0,[r'$r_{vdw}$'],[i for i in rVDW for j in range(28)],True)\n",
    "df.insert(0,[r'$\\alpha^{1/3}_m$'],[i for i in pol for j in range(28)],True)\n",
    "#Acid feature\n",
    "df.insert(0,[r'$\\mu_z$'],list(dipol)*9,True)\n",
    "df.insert(0,[r'$\\Delta E^{dis}_H$'],list(homolytic)*9,True)\n",
    "df.insert(0,[r'$E^{a1}_{EA}$'],list(EA1)*9,True)\n",
    "df.insert(0,[r'$EA^{az}_{EA}$'],list(EAz)*9,True)\n",
    "df.insert(0,[r'$E^{a0}_{LUMO}$'],list(eLUMO)*9,True)\n",
    "df.insert(0,[r'$E^{a1}_{HOMO}$'],list(eHOMO1)*9,True)\n",
    "df.insert(0,[r'$E^{az}_{HOMO}$'],list(eHOMOz)*9,True)\n",
    "df.insert(0,[r'$E^{a0}_{HOMO}$'],list(eHOMO)*9,True)\n",
    "df.insert(0,[r'$E^{aH}_{HOMO}$'],list(eHOMOH)*9,True)\n",
    "df.insert(0,[r'$\\Delta G_{pKa}$'],list(GpKas)*9,True)\n",
    "df.insert(0,[r'$z$'],list(valences)*9,True)\n",
    "\n",
    "#Tracking\n",
    "df.insert(0,['metal'],[i for i in metals for j in range(28)],True)\n",
    "df.insert(0,['acid'],[i for i in names]*9,True)\n",
    "#Drop NaN\n",
    "dfraw=df.copy()\n",
    "dfraw.drop(dfraw[dfraw['acid'] == 'H+'].index, inplace = True)\n",
    "df.dropna(axis=0,inplace=True)\n",
    "#Drop -2 and -3\n",
    "#df.drop(df[df['valences'] == -1].index, inplace = True)\n",
    "#Drop H\n",
    "df.drop(df[df['acid'] == 'H+'].index, inplace = True)\n",
    "print(len(df))\n",
    "df.head()"
   ]
  },
  {
   "cell_type": "markdown",
   "id": "a20b76da-188b-43be-8c98-f69183ba225f",
   "metadata": {},
   "source": [
    "### Down select features based on cross-correlation"
   ]
  },
  {
   "cell_type": "code",
   "execution_count": null,
   "id": "96885f6a-2a97-4c4b-9917-fd6320492181",
   "metadata": {},
   "outputs": [],
   "source": [
    "#Extract features\n",
    "X=df.drop(columns=['metal','acid',r'$\\gamma$',r'$U^o$',r'$\\Delta\\epsilon_F$'])\n",
    "Xacid=X.iloc[:, 0:11] \n",
    "Xmetal=X.iloc[:,11:]\n",
    "#Correlation matrix\n",
    "corr_acid=Xacid.corr()\n",
    "corr_metal=Xmetal.corr()"
   ]
  },
  {
   "cell_type": "code",
   "execution_count": null,
   "id": "c64ff5fd-3373-4aae-9a70-66b7f1760527",
   "metadata": {},
   "outputs": [],
   "source": [
    "fig,axes=plt.subplots(2,1,figsize=(7, 12),dpi=300)\n",
    "cbar_ax = fig.add_axes([0.92, 0.15, 0.02, 0.7]) \n",
    "#Acid\n",
    "sns.heatmap(corr_acid, vmin=-1,vmax=1, ax=axes[0], annot=True, annot_kws={\"fontsize\":12}, cmap=\"coolwarm\", fmt=\".2f\",cbar_ax=cbar_ax)\n",
    "for i in range(corr_acid.shape[0]):\n",
    "    for j in range(corr_acid.shape[1]):\n",
    "        if 1 > abs(corr_acid.iloc[i,j]) > 0.8:\n",
    "            axes[0].add_patch(plt.Rectangle((j, i), 1, 1, fill=False, edgecolor='k', linewidth=2,hatch='///'))\n",
    "#Metal\n",
    "sns.heatmap(corr_metal, vmin=-1,vmax=1, ax=axes[1], annot=True, annot_kws={\"fontsize\":12}, cmap=\"coolwarm\", fmt=\".2f\",cbar=False)\n",
    "for i in range(corr_metal.shape[0]):\n",
    "    for j in range(corr_metal.shape[1]):\n",
    "        if 1 > abs(corr_metal.iloc[i,j]) > 0.8:\n",
    "            axes[1].add_patch(plt.Rectangle((j, i), 1, 1, fill=False, edgecolor='k', linewidth=2, hatch='///'))\n",
    "\n",
    "axes[0].tick_params(axis='both',labelrotation=45, labelsize=12)\n",
    "axes[0].set_title('Anion features',fontsize=14)\n",
    "axes[1].tick_params(axis='both',labelrotation=45, labelsize=12)\n",
    "axes[1].set_title('Metal features',fontsize=14)\n",
    "cbar_ax.tick_params(labelsize=12,tickdir='inout')\n",
    "plt.subplots_adjust(hspace=0.25)\n",
    "plt.show()"
   ]
  },
  {
   "cell_type": "code",
   "execution_count": null,
   "id": "5231c2d3-8391-49d3-8231-d7be949998f2",
   "metadata": {},
   "outputs": [],
   "source": [
    "#Down select features with R2 higher than 0.8\n",
    "Xacid=X[[r'$E^{a0}_{HOMO}$',r'$\\Delta E^{dis}_H$',r'$z$',r'$E^{a1}_{EA}$',r'$\\Delta G_{pKa}$',r'$\\mu_z$']]\n",
    "Xmetal=X[[r'$E^m_{EA}$',r'$\\alpha^{1/3}_m$',r'$r_{vdw}$',r'$\\varepsilon_F$',r'$\\varepsilon_d$',r'$\\varepsilon_{sp}$']]\n",
    "Xdown=pd.concat([Xacid, Xmetal], axis=1)\n",
    "Xdown.shape"
   ]
  },
  {
   "cell_type": "markdown",
   "id": "fa4e6e22",
   "metadata": {},
   "source": [
    "### $\\gamma$ (e)"
   ]
  },
  {
   "cell_type": "markdown",
   "id": "c52c67d1-17ee-4882-ae78-5ac6f27f162a",
   "metadata": {},
   "source": [
    "#### Fit all features"
   ]
  },
  {
   "cell_type": "code",
   "execution_count": null,
   "id": "f0224c99-c427-49c7-afb2-dcfb5e89019a",
   "metadata": {},
   "outputs": [],
   "source": [
    "#Label\n",
    "ygam=df[r'$\\gamma$']\n",
    "#80-20 split with all features (downed)\n",
    "X_train, X_test, gam_train, gam_test = train_test_split(Xdown, ygam, test_size=0.2)\n",
    "modelgam=linear_model.LinearRegression().fit(X_train,gam_train)\n",
    "\n",
    "#Error\n",
    "print('Train R2:',r2_score(gam_train,modelgam.predict(X_train)))\n",
    "print('Train RMSE:',root_mean_squared_error(gam_train,modelgam.predict(X_train)))\n",
    "print('Test R2:',r2_score(gam_test,modelgam.predict(X_test)))\n",
    "print('Test RMSE:',root_mean_squared_error(gam_test,modelgam.predict(X_test)))\n",
    "\n",
    "#Plot final split\n",
    "plt.figure(figsize=(4,3.5),dpi=100)\n",
    "plt.gca().set_aspect('equal')\n",
    "plt.plot(gam_train,modelgam.predict(X_train),'o', markersize=8,mec='k',mfc='b',alpha=0.6)\n",
    "plt.plot(gam_test,modelgam.predict(X_test),'o', markersize=8,mec='k',mfc='r',alpha=0.6)\n",
    "plt.tick_params(axis='both',labelsize=15)\n",
    "low=-3\n",
    "high=0\n",
    "plt.xlim(low,high)\n",
    "plt.ylim(low,high)\n",
    "plt.plot((low,high),(low,high),ls='--',c='k')\n",
    "ticks=np.arange(low,high+1,1)\n",
    "plt.xticks(ticks)\n",
    "plt.yticks(ticks)\n",
    "plt.show()"
   ]
  },
  {
   "cell_type": "markdown",
   "id": "5aa9b11a-4120-48e8-a94e-d30f23628e90",
   "metadata": {},
   "source": [
    "#### Sequential Forward Selection"
   ]
  },
  {
   "cell_type": "code",
   "execution_count": null,
   "id": "6a918438-f9e9-4088-9c96-1791eea13963",
   "metadata": {},
   "outputs": [],
   "source": [
    "#Repeat SFS multiple times (bootstrapping)\n",
    "nSFS=50\n",
    "gam_feas, gam_r2, gam_rmse=[],[],[]\n",
    "for _ in range(nSFS):\n",
    "    #Re-initialize model\n",
    "    modelgam=linear_model.LinearRegression()\n",
    "    #Do a random 80-20 split\n",
    "    X_train, X_test, y_train, y_test = train_test_split(Xdown, ygam, test_size=0.2)\n",
    "    #Sequential Forward Selection with varying number of features\n",
    "    nfeas=np.arange(1,Xdown.shape[1],1)\n",
    "    selected_feas=[]\n",
    "    r2_feas=[]\n",
    "    rmse_feas=[]\n",
    "    for n in nfeas:\n",
    "        sfs=SequentialFeatureSelector(modelgam, n_features_to_select=n, direction='forward', cv=5, scoring='neg_root_mean_squared_error')\n",
    "        sfs.fit(X_train, y_train)\n",
    "        X_train_sfs=sfs.transform(X_train)\n",
    "        X_test_sfs=sfs.transform(X_test)\n",
    "        modelgam.fit(X_train_sfs, y_train)\n",
    "        #Metrics\n",
    "        r2train=r2_score(y_train, modelgam.predict(X_train_sfs))\n",
    "        rmsetrain=root_mean_squared_error(y_train, modelgam.predict(X_train_sfs))\n",
    "        r2test=r2_score(y_test, modelgam.predict(X_test_sfs))\n",
    "        rmsetest=root_mean_squared_error(y_test, modelgam.predict(X_test_sfs))\n",
    "        #Extract\n",
    "        selected_feas.append(sfs.get_feature_names_out())\n",
    "        r2_feas.append([r2train, r2test])\n",
    "        rmse_feas.append([rmsetrain, rmsetest])\n",
    "    #Save\n",
    "    gam_feas.append(selected_feas)\n",
    "    gam_r2.append(r2_feas)\n",
    "    gam_rmse.append(rmse_feas)"
   ]
  },
  {
   "cell_type": "code",
   "execution_count": null,
   "id": "8aa02a9c-3aae-4266-9359-9f048afa27d3",
   "metadata": {},
   "outputs": [],
   "source": [
    "#Histogram for features\n",
    "gam_topfeas=[]\n",
    "for n in range(nSFS):\n",
    "    gam_topfeas.append(gam_feas[n][3]) #Top n-1\n",
    "gam_topfeas=np.array(gam_topfeas).astype('str')\n",
    "counts=Counter(gam_topfeas.flatten())\n",
    "counts_sorted=dict(sorted(counts.items(), key=lambda item: item[1], reverse=True))\n",
    "label_gam, count_gam=zip(*counts_sorted.items())"
   ]
  },
  {
   "cell_type": "markdown",
   "id": "d0a2ef11-58f3-46bc-8ed0-00c17f00d43c",
   "metadata": {},
   "source": [
    "#### Standardized coefficients and LASSO"
   ]
  },
  {
   "cell_type": "code",
   "execution_count": null,
   "id": "ca091576-64e2-48c8-a70a-b0053ee50fe4",
   "metadata": {},
   "outputs": [],
   "source": [
    "# Standardize the features\n",
    "scaler = StandardScaler()\n",
    "Xscaled_gam = scaler.fit_transform(Xdown) \n",
    "#single 80-20 split \n",
    "X_train, X_test, gam_train, gam_test = train_test_split(Xscaled_gam, ygam, test_size=0.2)\n",
    "#LASSO\n",
    "modelgam=linear_model.Lasso(alpha=0.01).fit(Xscaled_gam,ygam)\n",
    "#Print abs coef.\n",
    "coefs=pd.DataFrame(modelgam.coef_, index=Xdown.columns, columns=['Coef.'])\n",
    "coefs['Abs. Coef.'] = coefs['Coef.'].abs()\n",
    "# Rank features by the absolute value of their coefficients\n",
    "ranked_features = coefs.sort_values('Abs. Coef.', ascending=False)\n",
    "print(ranked_features)\n",
    "\n",
    "#Error\n",
    "gam_pred=modelgam.predict(Xscaled_gam) #predict\n",
    "print('R2:',r2_score(ygam,gam_pred))\n",
    "print('RMSE:',root_mean_squared_error(ygam,gam_pred))"
   ]
  },
  {
   "cell_type": "markdown",
   "id": "acbf804b-bc01-4596-aa2a-e6df1fb9e359",
   "metadata": {},
   "source": [
    "#### Final cross-validation of selected features"
   ]
  },
  {
   "cell_type": "code",
   "execution_count": null,
   "id": "8a78057c-badb-4191-ae66-1c2a46447128",
   "metadata": {},
   "outputs": [],
   "source": [
    "#Down features further\n",
    "Xdown_gam=Xdown[[r'$z$',r'$\\mu_z$',r'$\\varepsilon_F$',r'$\\varepsilon_d$']]\n",
    "#Cross-validation\n",
    "kf=KFold(n_splits=5, shuffle=True,random_state=85)\n",
    "modelgam=linear_model.LinearRegression()\n",
    "cv_rmse_gam=[]\n",
    "cv_r2_gam=[]\n",
    "for train_index, test_index in kf.split(Xdown_gam):\n",
    "    X_train, X_test = Xdown_gam.iloc[train_index], Xdown_gam.iloc[test_index]\n",
    "    y_train, y_test = ygam.iloc[train_index], ygam.iloc[test_index]\n",
    "    \n",
    "    modelgam.fit(X_train, y_train)\n",
    "    #Metrics\n",
    "    r2train=r2_score(y_train, modelgam.predict(X_train))\n",
    "    rmsetrain=root_mean_squared_error(y_train, modelgam.predict(X_train))\n",
    "    r2test=r2_score(y_test, modelgam.predict(X_test))\n",
    "    rmsetest=root_mean_squared_error(y_test, modelgam.predict(X_test))   \n",
    "    cv_rmse_gam.append([rmsetrain, rmsetest])\n",
    "    cv_r2_gam.append([r2train, r2test])\n",
    "    \n",
    "print(\"RMSE [train, test]:\", np.mean(cv_rmse_gam,axis=0), np.std(cv_rmse_gam,axis=0)/np.sqrt(5))\n",
    "print(\"R2 [train, test]:\", np.mean(cv_r2_gam, axis=0), np.std(cv_r2_gam, axis=0)/np.sqrt(5))\n",
    "print(\"Coef.:\", linear_model.LinearRegression().fit(Xdown_gam, ygam).coef_)"
   ]
  },
  {
   "cell_type": "code",
   "execution_count": null,
   "id": "2731419a-50e3-4232-a483-2536684759b8",
   "metadata": {},
   "outputs": [],
   "source": [
    "fig=plt.figure(figsize=(8,2.5),dpi=200)\n",
    "#Define axes\n",
    "ax1 = fig.add_axes([0.1, 0.5, 0.25, 0.4])  # Bottom-left\n",
    "ax2 = fig.add_axes([0.1, 0.1, 0.25, 0.4])  # Top-left\n",
    "ax3 = fig.add_axes([0.45, 0.1, 0.25, 0.8]) \n",
    "ax4 = fig.add_axes([0.82, 0.1, 0.25, 0.8]) \n",
    "#RMSE\n",
    "ax1.errorbar(nfeas,np.mean(gam_rmse,axis=0)[:,0],yerr=np.std(gam_rmse,axis=0)[:,0]/np.sqrt(nSFS), capsize=3, fmt='o',ls='-',c='b') #train\n",
    "ax1.errorbar(nfeas,np.mean(gam_rmse,axis=0)[:,1],yerr=np.std(gam_rmse,axis=0)[:,1]/np.sqrt(nSFS), capsize=3, fmt='o',ls='--',c='r',mfc='w') #test\n",
    "ax1.axvline(x=4,c='k',ls=':')\n",
    "ax1.set_ylabel(r'RMSE (e)',fontsize=12)\n",
    "ax1.set_title('Sequential forward selection')\n",
    "ax1.set_ylim(0.06,0.22)\n",
    "ax1.set_yticks([0.1,0.2])\n",
    "#R2\n",
    "ax2.errorbar(nfeas,np.mean(gam_r2,axis=0)[:,0],yerr=np.std(gam_r2,axis=0)[:,0]/np.sqrt(nSFS), capsize=3, fmt='o',ls='-',c='b') #train\n",
    "ax2.errorbar(nfeas,np.mean(gam_r2,axis=0)[:,1],yerr=np.std(gam_r2,axis=0)[:,1]/np.sqrt(nSFS), capsize=3, fmt='o',ls='--',c='r',mfc='w') #test\n",
    "ax2.axvline(x=4,c='k',ls=':')\n",
    "ax2.set_xlabel('No. of features',fontsize=12)\n",
    "ax2.set_ylabel(r'R$^2$',fontsize=12)\n",
    "[i.set_xticks(range(1,12,2)) for i in [ax1,ax2]]\n",
    "ax2.set_ylim(0.66,0.98)\n",
    "#ax2.set_yticks([0.1,0.2])\n",
    "\n",
    "#Feature hist\n",
    "ax3.bar(label_gam[:6],count_gam[:6], fc='k', ec='w',width=1)\n",
    "ax3.set_ylim(0,50)\n",
    "ax3.tick_params(axis='x',labelsize=12,labelrotation=90)\n",
    "ax3.tick_params(axis='y',labelsize=12)  # Rotate labels for readability\n",
    "ax3.set_title('Top occurring features')\n",
    "#Final performance\n",
    "#ax4.set_aspect('equal')\n",
    "ax4.plot(y_train,modelgam.predict(X_train),'o', markersize=8,mec='b',mfc='b',alpha=0.6,label='Train')\n",
    "ax4.plot(y_test,modelgam.predict(X_test),'o', markersize=8,mec='r',mfc='w',alpha=0.6,label='Test')\n",
    "low=-3.\n",
    "high=0.\n",
    "ax4.set_xlim(low,high)\n",
    "ax4.set_ylim(low,high)\n",
    "ax4.plot((low,high),(low,high),ls='--',c='k')\n",
    "ax4.tick_params(axis='both',labelsize=12)\n",
    "ax4.set_title('Final model performance')\n",
    "ax4.set_xlabel(r'GC-DFT $\\gamma$ (e)',fontsize=12)\n",
    "ax4.set_ylabel(r'MLR $\\gamma$ (e)',fontsize=12)\n",
    "plt.show()"
   ]
  },
  {
   "cell_type": "code",
   "execution_count": null,
   "id": "d3666a60-8cae-4c1b-9f14-cc44385159c7",
   "metadata": {},
   "outputs": [],
   "source": [
    "from sklearn.inspection import PartialDependenceDisplay"
   ]
  },
  {
   "cell_type": "code",
   "execution_count": null,
   "id": "8fb1297e-09af-4c92-ac2a-fd5d83ade39b",
   "metadata": {},
   "outputs": [],
   "source": [
    "[PartialDependenceDisplay.from_estimator(modelgam, Xdown_gam, [i]) for i in range(4)]\n",
    "plt.show()"
   ]
  },
  {
   "cell_type": "markdown",
   "id": "9decab89-e224-48cd-a5c4-abc3172c2a42",
   "metadata": {},
   "source": [
    "#### Data heat map $\\gamma$"
   ]
  },
  {
   "cell_type": "code",
   "execution_count": null,
   "id": "994a307f-19e3-44ab-a970-5f36fd9c32ab",
   "metadata": {},
   "outputs": [],
   "source": [
    "# Function to convert formulas to LaTeX-style strings\n",
    "def format_formula(formula):\n",
    "    formatted = ''\n",
    "    minuses=0\n",
    "    for char in formula:\n",
    "        if char.isdigit():\n",
    "            formatted += f'_{char}'  # Add subscript for numbers\n",
    "        elif char=='-':\n",
    "            minuses+=1\n",
    "        else:\n",
    "            formatted += '\\\\text{'+char+'}'\n",
    "    if minuses==1:\n",
    "        return '$'+formatted + '^-$'\n",
    "    else:\n",
    "        return '$'+formatted + f'^{{{minuses}-}}$'"
   ]
  },
  {
   "cell_type": "code",
   "execution_count": null,
   "id": "b06ec352-3a28-4537-9109-51caa34c278f",
   "metadata": {},
   "outputs": [],
   "source": [
    "#Train on all available data\n",
    "modelgam=linear_model.LinearRegression().fit(Xdown_gam, ygam)\n",
    "#Make copy of raw df to be filled\n",
    "dffill=dfraw.copy()\n",
    "#Fill in blanks\n",
    "for index, row in dfraw.iterrows():\n",
    "    if pd.isna(row.iloc[26]): #if gamma is NaN\n",
    "        #Predict\n",
    "        Xrow=row[[r'$z$',r'$\\mu_z$',r'$\\varepsilon_F$',r'$\\varepsilon_d$']]\n",
    "        gamrow=modelgam.predict(pd.DataFrame([Xrow]))\n",
    "        #Fill in\n",
    "        dffill.at[index, r'$\\gamma$']=gamrow"
   ]
  },
  {
   "cell_type": "code",
   "execution_count": null,
   "id": "f9622977-8bdb-460e-b8f6-b13434c21277",
   "metadata": {},
   "outputs": [],
   "source": [
    "#sort by dipole moment then valency\n",
    "sortgamkey=[r'$\\gamma$']\n",
    "sortorder=[True]\n",
    "#sortgamkey=[r'$z$',  r'$\\mu_z$', r'$\\varepsilon_d$']\n",
    "#sortorder=[True, True, True] #True for +, False for -\n",
    "dfraw_sortgam=dfraw.sort_values(by=sortgamkey, axis='index', ascending=sortorder)\n",
    "dffill_sortgam=dffill.sort_values(by=sortgamkey, axis='index', ascending=sortorder)\n",
    "#print(df_sortgam.head(30))\n",
    "\n",
    "#pivot and map gamma map\n",
    "gamraw=pd.pivot_table(dfraw_sortgam, index=dfraw_sortgam.columns[1], columns=dfraw_sortgam.columns[0], values=dfraw_sortgam.columns[26], sort=False)\n",
    "gamfill=pd.pivot_table(dffill_sortgam, index=dffill_sortgam.columns[1], columns=dffill_sortgam.columns[0], values=dffill_sortgam.columns[26], sort=False)\n",
    "\n",
    "#reindex\n",
    "#metalind=['Ir', 'Pt', 'Rh', 'Pd', 'Co', 'Ni', 'Au', 'Cu', 'Ag']\n",
    "#gamfill=gamfill.reindex(columns=metalind)\n",
    "#gamfill=gamfill.reindex(index=Uofill.index, columns=Uofill.columns) #if match Uo\n",
    "gamraw=gamraw.reindex(index=gamfill.index, columns=gamfill.columns) #reindex to match perfectly\n",
    "print(gamraw.columns.equals(gamfill.columns))\n",
    "print(gamraw.index.equals(gamfill.index))"
   ]
  },
  {
   "cell_type": "code",
   "execution_count": null,
   "id": "8f905f5f-c213-4358-a401-cec02345bbb7",
   "metadata": {},
   "outputs": [],
   "source": [
    "#Horizontal\n",
    "fig=plt.figure(figsize=(12,5),dpi=300)\n",
    "ax=plt.gca()\n",
    "ax.set_aspect(1)\n",
    "cbar_ax = fig.add_axes([0.125, 0.85, 0.775, 0.02]) \n",
    "sns.heatmap(gamfill, vmin=-2.5, vmax=-0.5, cmap=\"jet\", ax=ax, cbar_ax=cbar_ax, cbar_kws={\"orientation\":\"horizontal\"}, linecolor='w',linewidths=1)\n",
    "#Mask NaN in raw\n",
    "nan_mask=gamraw.isna()\n",
    "for i, j in zip(*np.where(nan_mask)):\n",
    "    ax.add_patch(plt.Rectangle((j, i), 1, 1, fill=False, linewidth=0, hatch='///', color='w',alpha=0.5))\n",
    "#Format\n",
    "ax.set_yticklabels(gamfill.index, rotation=0)\n",
    "ax.set_xticklabels([format_formula(i) for i in gamfill.columns],rotation=90) #format chemical formula\n",
    "ax.tick_params(axis='both',labelsize=14, bottom=False, left=False)\n",
    "ax.set_xlabel('', fontsize=19)\n",
    "ax.set_ylabel('', fontsize=19)\n",
    "cbar_ax.tick_params(axis='both',labelsize=15, bottom=False, labelbottom=False, top=True, labeltop=True, width=1.5, size=5, direction='inout')\n",
    "for _, spine in ax.spines.items():\n",
    "    spine.set_visible(True)\n",
    "    spine.set_linewidth(1)\n",
    "for _, spine in cbar_ax.spines.items():\n",
    "    spine.set_visible(True)\n",
    "    spine.set_linewidth(0.5)\n",
    "plt.show()"
   ]
  },
  {
   "cell_type": "markdown",
   "id": "c476bedb-3194-4b42-a29e-c6ed00adf9a6",
   "metadata": {},
   "source": [
    "#### Charge retained $z-\\gamma$"
   ]
  },
  {
   "cell_type": "code",
   "execution_count": null,
   "id": "5b131a42-db19-4557-bca0-1c1061d3a758",
   "metadata": {},
   "outputs": [],
   "source": [
    "#Use above trained model and extract z\n",
    "zval = Xdown_gam[[r'$z$']].to_numpy().flatten()\n",
    "\n",
    "plt.figure(figsize=(4,3.5),dpi=200)\n",
    "#Plot each valency value\n",
    "vcolor=['b','g','r']\n",
    "vin=0\n",
    "for v in [-1,-2,-3]:\n",
    "    mask=zval==v\n",
    "    plt.plot(zval[mask]-ygam[mask],zval[mask]-modelgam.predict(Xdown_gam)[mask],ls='',marker='o',mec='k',mfc=vcolor[vin],markersize=8,alpha=0.6)\n",
    "    vin+=1\n",
    "plt.gca().set_aspect('equal')\n",
    "plt.tick_params(axis='both',labelsize=15)\n",
    "low=-2.\n",
    "high=1.\n",
    "plt.xlim(low,high)\n",
    "plt.ylim(low,high)\n",
    "plt.plot((low,high),(low,high),ls='--',c='k')\n",
    "ticks=np.arange(low,high+1,1)\n",
    "plt.xticks(ticks)\n",
    "plt.yticks(ticks)\n",
    "plt.xlabel(r'$z-\\gamma_{\\text{GC-DFT}}$ (e)',fontsize=15)\n",
    "plt.ylabel(r'$z-\\gamma_{\\text{MLR}}$ (e)',fontsize=15)\n",
    "plt.show()"
   ]
  },
  {
   "cell_type": "markdown",
   "id": "60936d2e",
   "metadata": {},
   "source": [
    "### $U_o$ (V SHE)"
   ]
  },
  {
   "cell_type": "markdown",
   "id": "0b1580f2-5fbe-46f3-ae23-5b251401045a",
   "metadata": {},
   "source": [
    "#### Fit all features"
   ]
  },
  {
   "cell_type": "code",
   "execution_count": null,
   "id": "419240c1-c2d7-4783-b2c8-60bad760b117",
   "metadata": {},
   "outputs": [],
   "source": [
    "#Label\n",
    "yUo=df[r'$U^o$']\n",
    "#80-20 split withh all features\n",
    "X_train, X_test, Uo_train, Uo_test = train_test_split(Xdown, yUo, test_size=0.2)\n",
    "modelUo=linear_model.LinearRegression().fit(X_train,Uo_train)\n",
    "\n",
    "#Error\n",
    "print('Train R2:',r2_score(Uo_train,modelUo.predict(X_train)))\n",
    "print('Train RMSE:',root_mean_squared_error(Uo_train,modelUo.predict(X_train)))\n",
    "print('Test R2:',r2_score(Uo_test,modelUo.predict(X_test)))\n",
    "print('Test RMSE:',root_mean_squared_error(Uo_test,modelUo.predict(X_test)))\n",
    "\n",
    "#Plot final split\n",
    "plt.figure(figsize=(4.5,4),dpi=300)\n",
    "plt.gca().set_aspect('equal')\n",
    "plt.plot(Uo_train,modelUo.predict(X_train),'o', markersize=8,mec='b',mfc='b',alpha=0.6)\n",
    "plt.plot(Uo_test,modelUo.predict(X_test), 'o', markersize=8,mec='r',mfc='w',alpha=0.6)\n",
    "\n",
    "plt.tick_params(axis='both',labelsize=14)\n",
    "low=-1.2\n",
    "high=1.8\n",
    "plt.xlim(low,high)\n",
    "plt.ylim(low,high)\n",
    "plt.plot((low,high),(low,high),ls='--',c='k')     \n",
    "ticks=np.arange(low+1,high+1,1)\n",
    "plt.xticks(ticks)\n",
    "plt.yticks(ticks)\n",
    "plt.show()"
   ]
  },
  {
   "cell_type": "markdown",
   "id": "a718caaa-8a61-4703-ae6a-b81ca71df6e6",
   "metadata": {},
   "source": [
    "#### Sequential Forward Selection"
   ]
  },
  {
   "cell_type": "code",
   "execution_count": null,
   "id": "68d3fc61-297b-40f3-bd13-a83573d968f2",
   "metadata": {},
   "outputs": [],
   "source": [
    "#Repeat SFS multiple times (bootstrapping)\n",
    "nSFS=50\n",
    "Uo_feas, Uo_r2, Uo_rmse=[],[],[]\n",
    "for _ in range(nSFS):\n",
    "    #Re-initialize model\n",
    "    modelUo=linear_model.LinearRegression()\n",
    "    #Do a random 80-20 split\n",
    "    X_train, X_test, y_train, y_test = train_test_split(Xdown, yUo, test_size=0.2)\n",
    "    #Sequential Forward Selection with varying number of features\n",
    "    nfeas=np.arange(1,Xdown.shape[1],1)\n",
    "    selected_feas=[]\n",
    "    r2_feas=[]\n",
    "    rmse_feas=[]\n",
    "    for n in nfeas:\n",
    "        sfs=SequentialFeatureSelector(modelUo, n_features_to_select=n, direction='forward', cv=5, scoring='neg_root_mean_squared_error')\n",
    "        sfs.fit(X_train, y_train)\n",
    "        X_train_sfs=sfs.transform(X_train)\n",
    "        X_test_sfs=sfs.transform(X_test)\n",
    "        modelUo.fit(X_train_sfs, y_train)\n",
    "        #Metrics\n",
    "        r2train=r2_score(y_train, modelUo.predict(X_train_sfs))\n",
    "        rmsetrain=root_mean_squared_error(y_train, modelUo.predict(X_train_sfs))\n",
    "        r2test=r2_score(y_test, modelUo.predict(X_test_sfs))\n",
    "        rmsetest=root_mean_squared_error(y_test, modelUo.predict(X_test_sfs))\n",
    "        #Extract\n",
    "        selected_feas.append(sfs.get_feature_names_out())\n",
    "        r2_feas.append([r2train, r2test])\n",
    "        rmse_feas.append([rmsetrain, rmsetest])\n",
    "    #Save\n",
    "    Uo_feas.append(selected_feas)\n",
    "    Uo_r2.append(r2_feas)\n",
    "    Uo_rmse.append(rmse_feas)"
   ]
  },
  {
   "cell_type": "code",
   "execution_count": null,
   "id": "ca422da4-58e8-41e9-bde1-c223e1ee5a72",
   "metadata": {},
   "outputs": [],
   "source": [
    "#Histogram for features\n",
    "Uo_topfeas=[]\n",
    "for n in range(nSFS):\n",
    "    Uo_topfeas.append(Uo_feas[n][5]) #top 6\n",
    "Uo_topfeas=np.array(Uo_topfeas).astype('str')\n",
    "\n",
    "counts=Counter(Uo_topfeas.flatten())\n",
    "counts_sorted=dict(sorted(counts.items(), key=lambda item: item[1], reverse=True))\n",
    "label_Uo, count_Uo=zip(*counts_sorted.items())"
   ]
  },
  {
   "cell_type": "markdown",
   "id": "940eba06-5e65-4253-8a75-68ce3edb97fd",
   "metadata": {},
   "source": [
    "#### Standardized coefficients and LASSO"
   ]
  },
  {
   "cell_type": "code",
   "execution_count": null,
   "id": "f38ec249-003e-48e8-be6a-3180337fa558",
   "metadata": {},
   "outputs": [],
   "source": [
    "#Standardize the features\n",
    "scaler = StandardScaler()\n",
    "Xscaled_Uo = scaler.fit_transform(Xdown) \n",
    "#80-20 split withh all features\n",
    "X_train, X_test, Uo_train, Uo_test = train_test_split(Xscaled_Uo, yUo, test_size=0.001)\n",
    "#modelUo=linear_model.Lasso(alpha=0.05).fit(X_train,Uo_train)\n",
    "modelUo=linear_model.Lasso(alpha=0.04).fit(Xscaled_Uo,yUo)\n",
    "#Print\n",
    "coefs=pd.DataFrame(modelUo.coef_, index=Xdown.columns, columns=['Coef.'])\n",
    "coefs['Abs. Coef.'] = coefs['Coef.'].abs()\n",
    "# Rank features by the absolute value of their coefficients\n",
    "ranked_features = coefs.sort_values('Abs. Coef.', ascending=False)\n",
    "print(ranked_features)\n",
    "\n",
    "#Error\n",
    "Uo_pred=modelUo.predict(Xscaled_Uo) #predict\n",
    "print('R2:',r2_score(yUo,Uo_pred))\n",
    "print('RMSE:',root_mean_squared_error(yUo,Uo_pred))"
   ]
  },
  {
   "cell_type": "markdown",
   "id": "cf2d7cb6-c947-42c6-a866-b46bd7844af0",
   "metadata": {},
   "source": [
    "#### Final cross-validation of selected features"
   ]
  },
  {
   "cell_type": "code",
   "execution_count": null,
   "id": "f49c3c92-e236-4174-ac63-d524cca330ab",
   "metadata": {},
   "outputs": [],
   "source": [
    "#Down features from SFS\n",
    "Xdown_Uo=Xdown[[r'$E^m_{EA}$',r'$\\alpha^{1/3}_m$',r'$r_{vdw}$',r'$\\Delta E^{dis}_H$',r'$E^{a0}_{HOMO}$',r'$E^{a1}_{EA}$']]\n",
    "#Cross-validation\n",
    "kf=KFold(n_splits=5, shuffle=True, random_state=500)\n",
    "modelUo=linear_model.LinearRegression()\n",
    "cv_rmse_Uo=[]\n",
    "cv_r2_Uo=[]\n",
    "for train_index, test_index in kf.split(Xdown_Uo):\n",
    "    X_train, X_test = Xdown_Uo.iloc[train_index], Xdown_Uo.iloc[test_index]\n",
    "    y_train, y_test = yUo.iloc[train_index], yUo.iloc[test_index]\n",
    "    \n",
    "    modelUo.fit(X_train, y_train)\n",
    "    #Metrics\n",
    "    r2train=r2_score(y_train, modelUo.predict(X_train))\n",
    "    rmsetrain=root_mean_squared_error(y_train, modelUo.predict(X_train))\n",
    "    r2test=r2_score(y_test, modelUo.predict(X_test))\n",
    "    rmsetest=root_mean_squared_error(y_test, modelUo.predict(X_test))   \n",
    "    cv_rmse_Uo.append([rmsetrain, rmsetest])\n",
    "    cv_r2_Uo.append([r2train, r2test])\n",
    "\n",
    "print(\"RMSE [train, test]:\", np.mean(cv_rmse_Uo,axis=0), np.std(cv_rmse_Uo,axis=0)/np.sqrt(5))\n",
    "print(\"R2 [train, test]:\", np.mean(cv_r2_Uo, axis=0), np.std(cv_r2_Uo, axis=0)/np.sqrt(5))\n",
    "print(\"Coef.:\", linear_model.LinearRegression().fit(Xdown_Uo, yUo).coef_)"
   ]
  },
  {
   "cell_type": "code",
   "execution_count": null,
   "id": "0a8e5d7f-45f3-4a7d-ad09-6850d6aa6dbe",
   "metadata": {},
   "outputs": [],
   "source": [
    "fig=plt.figure(figsize=(8,2.5),dpi=200)\n",
    "#Define axes\n",
    "ax1 = fig.add_axes([0.1, 0.5, 0.25, 0.4])  # Bottom-left\n",
    "ax2 = fig.add_axes([0.1, 0.1, 0.25, 0.4])  # Top-left\n",
    "ax3 = fig.add_axes([0.45, 0.1, 0.25, 0.8]) \n",
    "ax4 = fig.add_axes([0.82, 0.1, 0.25, 0.8]) \n",
    "\n",
    "#RMSE\n",
    "ax1.errorbar(nfeas,np.mean(Uo_rmse,axis=0)[:,0],yerr=np.std(Uo_rmse,axis=0)[:,0]/np.sqrt(nSFS), capsize=3, fmt='s',ls='-',c='b') #train\n",
    "ax1.errorbar(nfeas,np.mean(Uo_rmse,axis=0)[:,1],yerr=np.std(Uo_rmse,axis=0)[:,1]/np.sqrt(nSFS), capsize=3, fmt='s',ls='--',c='r',mfc='w') #test\n",
    "ax1.axvline(x=6,c='k',ls=':')\n",
    "ax1.set_ylim(0.15,0.42)\n",
    "ax1.set_yticks([0.2,0.3,0.4])\n",
    "ax1.set_ylabel(r'RMSE (e)',fontsize=12)\n",
    "ax1.set_title('Sequential forward selection')\n",
    "\n",
    "#R2\n",
    "ax2.errorbar(nfeas,np.mean(Uo_r2,axis=0)[:,0],yerr=np.std(Uo_r2,axis=0)[:,0]/np.sqrt(nSFS), capsize=3, fmt='s',ls='-',c='b') #train\n",
    "ax2.errorbar(nfeas,np.mean(Uo_r2,axis=0)[:,1],yerr=np.std(Uo_r2,axis=0)[:,1]/np.sqrt(nSFS), capsize=3, fmt='s',ls='--',c='r',mfc='w') #test\n",
    "ax2.axvline(x=6,c='k',ls=':')\n",
    "ax2.set_xlabel('No. of features',fontsize=12)\n",
    "ax2.set_ylabel(r'R$^2$',fontsize=12)\n",
    "ax2.set_ylim(0.17,0.95)\n",
    "ax2.set_yticks([0.3,0.6,0.9])\n",
    "[i.set_xticks(range(1,12,2)) for i in [ax1,ax2]]\n",
    "\n",
    "#Feature hist\n",
    "ax3.bar(label_Uo[:7],count_Uo[:7], fc='k', ec='w',width=1)\n",
    "ax3.set_ylim(0,50)\n",
    "ax3.tick_params(axis='x',labelsize=12,labelrotation=90)\n",
    "ax3.tick_params(axis='y',labelsize=12)  # Rotate labels for readability\n",
    "ax3.set_title('Top occurring features')\n",
    "\n",
    "#Final performance\n",
    "#ax4.set_aspect('equal')\n",
    "ax4.plot(y_train,modelUo.predict(X_train),'s', markersize=8,mec='b',mfc='b',alpha=0.6,label='Train')\n",
    "ax4.plot(y_test,modelUo.predict(X_test),'s', markersize=8,mec='r',mfc='w',alpha=0.6,label='Test')\n",
    "low=-1.2\n",
    "high=1.8\n",
    "ax4.set_xlim(low,high)\n",
    "ax4.set_ylim(low,high)\n",
    "ax4.plot((low,high),(low,high),ls='--',c='k')\n",
    "ax4.tick_params(axis='both',labelsize=12)\n",
    "ax4.set_title('Final model performance')\n",
    "ax4.set_xlabel(r'GC-DFT $U^0$ (V)',fontsize=12)\n",
    "ax4.set_ylabel(r'MLR $U^0$ (V)',fontsize=12)\n",
    "\n",
    "plt.show()"
   ]
  },
  {
   "cell_type": "code",
   "execution_count": null,
   "id": "e72c1d2d-49b1-4110-b1d0-c7fcc0652e15",
   "metadata": {},
   "outputs": [],
   "source": [
    "[PartialDependenceDisplay.from_estimator(modelUo, Xdown_Uo, [i]) for i in range(6)]\n",
    "plt.show()"
   ]
  },
  {
   "cell_type": "markdown",
   "id": "e73c275f-cd7a-41b6-bbf8-41e73e622b99",
   "metadata": {},
   "source": [
    "#### Data heat map $U_o$"
   ]
  },
  {
   "cell_type": "code",
   "execution_count": null,
   "id": "744137e5-0bdd-4f05-a0c8-fe2d6c9b80e9",
   "metadata": {},
   "outputs": [],
   "source": [
    "#Train on all available data\n",
    "modelUo=linear_model.LinearRegression().fit(Xdown_Uo, yUo)\n",
    "#Fill in blanks\n",
    "for index, row in dfraw.iterrows():\n",
    "    if pd.isna(row.iloc[25]): #if Uo is NaN\n",
    "        #Predict\n",
    "        Xrow=row[[r'$E^m_{EA}$',r'$\\alpha^{1/3}_m$',r'$r_{vdw}$',r'$\\Delta E^{dis}_H$',r'$E^{a0}_{HOMO}$',r'$E^{a1}_{EA}$']]\n",
    "        Uorow=modelUo.predict(pd.DataFrame([Xrow]))\n",
    "        #Fill in\n",
    "        dffill.at[index, r'$U^o$']=Uorow"
   ]
  },
  {
   "cell_type": "code",
   "execution_count": null,
   "id": "ef80807b-ed75-4a33-ad3f-9e9c01fcb871",
   "metadata": {},
   "outputs": [],
   "source": [
    "#sort \n",
    "#sortUokey=[r'$U^o$']\n",
    "#sortorder=[True]\n",
    "sortUokey=[r'$r_{vdw}$',r'$E^{a0}_{HOMO}$']\n",
    "sortorder=[False, False]\n",
    "dfraw_sortUo=dfraw.sort_values(by=sortUokey, axis='index', ascending=sortorder)\n",
    "dffill_sortUo=dffill.sort_values(by=sortUokey, axis='index', ascending=sortorder)\n",
    "#print(df_sortUo.head(30))\n",
    "#pivot and map Uoma map\n",
    "Uoraw=pd.pivot_table(dfraw_sortUo, index=dfraw_sortUo.columns[1], columns=dfraw_sortUo.columns[0], values=dfraw_sortUo.columns[25], sort=False)\n",
    "Uofill=pd.pivot_table(dffill_sortUo, index=dffill_sortUo.columns[1], columns=dffill_sortUo.columns[0], values=dffill_sortUo.columns[25], sort=False)\n",
    "#reindex\n",
    "#metalind=['Co', 'Ni', 'Rh', 'Cu', 'Ir', 'Pd', 'Ag', 'Pt', 'Au']\n",
    "#Uofill=Uofill.reindex(columns=metalind)\n",
    "#Uofill=Uofill.reindex(index=gamfill.index, columns=gamfill.columns) #if reindex with gamma\n",
    "Uoraw=Uoraw.reindex(index=Uofill.index, columns=Uofill.columns) #reindex to match perfectly\n",
    "\n",
    "print(Uoraw.columns.equals(Uofill.columns))\n",
    "print(Uoraw.index.equals(Uofill.index))"
   ]
  },
  {
   "cell_type": "code",
   "execution_count": null,
   "id": "31337d9e-c68b-4223-8742-f6f8d022e737",
   "metadata": {},
   "outputs": [],
   "source": [
    "#Horizontal\n",
    "fig=plt.figure(figsize=(12,5),dpi=300)\n",
    "ax=plt.gca()\n",
    "ax.set_aspect(1)\n",
    "cbar_ax = fig.add_axes([0.125, 0.85, 0.775, 0.02]) \n",
    "sns.heatmap(Uofill, vmin=-1.2, vmax=1.6, cmap=\"jet\", ax=ax, cbar_ax=cbar_ax, cbar_kws={\"orientation\":\"horizontal\"}, linecolor='w',linewidths=1)\n",
    "#Mask NaN in raw\n",
    "nan_mask=Uoraw.isna()\n",
    "for i, j in zip(*np.where(nan_mask)):\n",
    "    ax.add_patch(plt.Rectangle((j, i), 1, 1, fill=False, linewidth=0, hatch='///', color='w',alpha=0.5))\n",
    "#Format\n",
    "ax.set_yticklabels(Uofill.index, rotation=0)\n",
    "ax.set_xticklabels([format_formula(i) for i in Uofill.columns],rotation=90) #format chemical formula\n",
    "ax.tick_params(axis='both',labelsize=14, bottom=False, left=False)\n",
    "ax.set_xlabel('', fontsize=19)\n",
    "ax.set_ylabel('', fontsize=19)\n",
    "cbar_ax.tick_params(axis='both',labelsize=15, bottom=False, labelbottom=False, top=True, labeltop=True, width=1.5, size=5, direction='inout')\n",
    "for _, spine in ax.spines.items():\n",
    "    spine.set_visible(True)\n",
    "    spine.set_linewidth(1)\n",
    "for _, spine in cbar_ax.spines.items():\n",
    "    spine.set_visible(True)\n",
    "    spine.set_linewidth(0.5)\n",
    "plt.show()"
   ]
  }
 ],
 "metadata": {
  "kernelspec": {
   "display_name": "Python 3 (ipykernel)",
   "language": "python",
   "name": "python3"
  },
  "language_info": {
   "codemirror_mode": {
    "name": "ipython",
    "version": 3
   },
   "file_extension": ".py",
   "mimetype": "text/x-python",
   "name": "python",
   "nbconvert_exporter": "python",
   "pygments_lexer": "ipython3",
   "version": "3.12.3"
  },
  "widgets": {
   "application/vnd.jupyter.widget-state+json": {
    "state": {},
    "version_major": 2,
    "version_minor": 0
   }
  }
 },
 "nbformat": 4,
 "nbformat_minor": 5
}
